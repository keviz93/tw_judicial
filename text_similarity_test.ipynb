{
 "cells": [
  {
   "cell_type": "markdown",
   "metadata": {},
   "source": [
    "# 此腳本為測試 stence-tranformers 文章向量的效果"
   ]
  },
  {
   "cell_type": "code",
   "execution_count": 2,
   "metadata": {},
   "outputs": [],
   "source": [
    "from pathlib import Path\n",
    "import json\n",
    "import pickle\n",
    "\n",
    "import pandas as pd\n",
    "from sentence_transformers import SentenceTransformer, util"
   ]
  },
  {
   "cell_type": "code",
   "execution_count": 3,
   "metadata": {},
   "outputs": [],
   "source": [
    "root_path = Path('/Users/zoe/Desktop/Kevin_project/judicial_analysis')\n",
    "input_path = root_path / '108/upload10812'\n",
    "supreme_court_path = root_path / '199601/最高法院民事'"
   ]
  },
  {
   "cell_type": "markdown",
   "metadata": {},
   "source": [
    "#### step1. load civial code judical include 車禍 (supreme + 10812 normal)"
   ]
  },
  {
   "cell_type": "code",
   "execution_count": 4,
   "metadata": {},
   "outputs": [],
   "source": [
    "accident_judicial = []\n",
    "\n",
    "for file in supreme_court_path.glob('*'):\n",
    "    with open(file, 'r') as f:\n",
    "        judicial_json = json.loads(f.read())\n",
    "    \n",
    "    if '車禍' in judicial_json['JFULL']:\n",
    "        accident_judicial.append(judicial_json)"
   ]
  },
  {
   "cell_type": "markdown",
   "metadata": {},
   "source": [
    "#### step2. check cosine similarity of vectors with whole judgement & split judgement with dot (。)"
   ]
  },
  {
   "cell_type": "code",
   "execution_count": 5,
   "metadata": {},
   "outputs": [],
   "source": [
    "with open('all_judicial.pickle', 'rb') as f:\n",
    "    normal_judicial_json = pickle.load(f)\n",
    "\n",
    "accident_judicial.extend([ {'JFULL': x['JFULLX']['JFULLCONTENT']} \n",
    "for x in normal_judicial_json \n",
    "if x.get('JFULLX') and '車禍' in x['JFULLX']['JFULLCONTENT']])"
   ]
  },
  {
   "cell_type": "markdown",
   "metadata": {},
   "source": [
    "#### 1. 經測試後發現，將有提到車禍的判決，與query判決進行比對，會因為判決很常，稀釋了語義，若用句號切斷，相似度會較為明顯，如下第一個案例，\n",
    "#### 整體文本相似度為 0.1126，但部分段落，相似度高達 0.6以上，所以未來應該會取段落最大相似度做代表，作為下一階段測試。\n",
    "\n",
    "#### 2. 大部分高相似度的結果，會提到 車 與 負面意涵(事故/痛苦等)，符合 車禍，車 + 禍害 的文字意涵，但也有不準的時候，\n",
    "#### 會需要進行約30個隨機抽樣，15個含有車禍 ＆ 不含的判決，評估準確率。"
   ]
  },
  {
   "cell_type": "code",
   "execution_count": 6,
   "metadata": {},
   "outputs": [
    {
     "name": "stdout",
     "output_type": "stream",
     "text": [
      "Whole corpus similarity: \n",
      "tensor([[0.1126]])\n",
      "Split corpus similarity:  [tensor([[0.6458]]), '事故所以發生，純係范陽宏高速行車，疏於注意，未為剎車\\r\\n等必要安全措施所肇致，而非甲○○過失之結果']\n",
      "Split corpus similarity:  [tensor([[0.6310]]), '第查被上訴人因系爭車禍而截肢，\\r\\n其肉體、精神必然受有極大痛苦']\n",
      "Split corpus similarity:  [tensor([[0.6090]]), '臺灣省桃園縣區車輛行車事故鑑定委員會桃鑑字第八三一○\\r\\n六號鑑定意見書亦同此見解']\n",
      "****************************************************************************************************\n",
      "Whole corpus similarity: \n",
      "tensor([[0.0633]])\n",
      "Split corpus similarity:  [tensor([[0.6432]]), '足見本件係行車事\\r\\n故，依鐵路法第六十二條第一項規定，被上訴人對於詹叁妹、張辰之傷害，自應負損\\r\\n害賠償責任']\n",
      "Split corpus similarity:  [tensor([[0.6173]]), '如遮斷器未放下或看守人員未表示停止時，仍應「\\r\\n看、聽」鐵路兩方確無火車駛來，始得通過']\n",
      "****************************************************************************************************\n",
      "Whole corpus similarity: \n",
      "tensor([[0.2189]])\n",
      "Split corpus similarity:  [tensor([[0.6083]]), '而林德山所駕自\\r\\n用小客車擦撞被上訴人乙○○所駕大貨車左前車門脚踏板失控後，始追撞同向前行由\\r\\n連炳謙所駕大貨車，以致連炳謙車毀人亡，為原審認定之事實']\n",
      "****************************************************************************************************\n",
      "Whole corpus similarity: \n",
      "tensor([[0.1740]])\n",
      "****************************************************************************************************\n",
      "Whole corpus similarity: \n",
      "tensor([[0.1666]])\n",
      "Split corpus similarity:  [tensor([[0.6855]]), '甲○○等雖否認撞及乙○○，辯稱其所騎\\r\\n機車係被他人碰到跌倒云云']\n",
      "Split corpus similarity:  [tensor([[0.6254]]), '事後經通知始接受調查，已在數小時之後，雖經檢驗\\r\\n並無任何血跡或刮痕，亦難謂其車輛未壓傷乙○○']\n",
      "****************************************************************************************************\n",
      "Whole corpus similarity: \n",
      "tensor([[0.2010]])\n",
      "****************************************************************************************************\n",
      "Whole corpus similarity: \n",
      "tensor([[0.1640]])\n",
      "Split corpus similarity:  [tensor([[0.6236]]), '故本件車禍之發生乃甲○○之過失責任所致，堪予認定']\n",
      "****************************************************************************************************\n",
      "Whole corpus similarity: \n",
      "tensor([[0.0919]])\n",
      "****************************************************************************************************\n",
      "Whole corpus similarity: \n",
      "tensor([[0.1258]])\n",
      "Split corpus similarity:  [tensor([[0.6438]]), '汽\\r\\n    車行駛時，駕駛人應注意車前狀況及兩車並行之間隔，並隨\\r\\n    時採取必要之安全措施；道路交通安全規則第94條第1項、\\r\\n    第3項前段分別定有明文']\n",
      "Split corpus similarity:  [tensor([[0.6339]]), '又被告過失\\r\\n    行為與系爭機車損害間具有相當因果關係，自應負侵權行為\\r\\n    損害賠償責任']\n",
      "Split corpus similarity:  [tensor([[0.6187]]), '又汽車在同一車道行\\r\\n    駛時，除擬超越前車外，後車與前車之間應保持隨時可以煞\\r\\n    停之距離，不得任意以迫近或其他方式，迫使前車讓道']\n",
      "****************************************************************************************************\n",
      "Whole corpus similarity: \n",
      "tensor([[0.1688]])\n",
      "Split corpus similarity:  [tensor([[0.6333]]), '\\r\\n  ㈡按汽車行駛時，駕駛人應注意車前狀況，並隨時採取必要之\\r\\n    安全措施，道路交通安全規則第94條第1 項定有明文']\n",
      "Split corpus similarity:  [tensor([[0.6315]]), '然而，被告駕駛系爭營業小客車，疏\\r\\n    未注意車前狀況，減速慢行，不慎撞擊李美觀騎乘之系爭重\\r\\n    機車，導致原告受有上開傷勢，被告顯然具有過失']\n",
      "Split corpus similarity:  [tensor([[0.6211]]), '\\r\\n  ⑸機車修理費部分：雖主張支出21,570元，但未提出證據佐證\\r\\n                    ，亦難准許']\n",

      "****************************************************************************************************\n",
      "Whole corpus similarity: \n",
      "tensor([[0.1476]])\n",
      "Split corpus similarity:  [tensor([[0.6329]]), '\\r\\n㈡、再按指向線，用以指示車輛行駛方向']\n",
      "****************************************************************************************************\n",
      "Whole corpus similarity: \n",
      "tensor([[0.0947]])\n",
      "****************************************************************************************************\n"
     ]
    }
   ],
   "source": [
    "model = SentenceTransformer('all-MiniLM-L6-v2')\n",
    "query_embedding = model.encode('車禍', convert_to_tensor=True)\n",
    "all_vecs = []\n",
    "\n",
    "for case in accident_judicial:\n",
    "    text_sim_sort = sorted([[util.cos_sim(query_embedding, model.encode(paragraph, convert_to_tensor=True)), paragraph]\n",
    "    for paragraph in case['JFULL'].split('。')], reverse=True)\n",
    "\n",
    "    print('Whole corpus similarity: ')\n",
    "    print(util.cos_sim(query_embedding, model.encode(case['JFULL'], convert_to_tensor=True)))\n",
    "\n",
    "    for x in text_sim_sort:\n",
    "        if x[0] > 0.6:\n",
    "            print('Split corpus similarity: ', x)\n",
    "    print('*'*100)\n",
    "\n",
    "    all_vecs.extend(text_sim_sort)"
   ]
  },
  {
   "cell_type": "code",
   "execution_count": 7,
   "metadata": {},
   "outputs": [
    {
     "data": {
      "text/html": [
       "<div>\n",
       "<style scoped>\n",
       "    .dataframe tbody tr th:only-of-type {\n",
       "        vertical-align: middle;\n",
       "    }\n",
       "\n",
       "    .dataframe tbody tr th {\n",
       "        vertical-align: top;\n",
       "    }\n",
       "\n",
       "    .dataframe thead th {\n",
       "        text-align: right;\n",
       "    }\n",
       "</style>\n",
       "<table border=\"1\" class=\"dataframe\">\n",
       "  <thead>\n",
       "    <tr style=\"text-align: right;\">\n",
       "      <th></th>\n",
       "      <th>vec</th>\n",
       "    </tr>\n",
       "  </thead>\n",
       "  <tbody>\n",
       "    <tr>\n",
       "      <th>count</th>\n",
       "      <td>36445.000000</td>\n",
       "    </tr>\n",
       "    <tr>\n",
       "      <th>mean</th>\n",
       "      <td>0.355068</td>\n",
       "    </tr>\n",
       "    <tr>\n",
       "      <th>std</th>\n",
       "      <td>0.113749</td>\n",
       "    </tr>\n",
       "    <tr>\n",
       "      <th>min</th>\n",
       "      <td>0.005748</td>\n",
       "    </tr>\n",
       "    <tr>\n",
       "      <th>25%</th>\n",
       "      <td>0.278167</td>\n",
       "    </tr>\n",
       "    <tr>\n",
       "      <th>50%</th>\n",
       "      <td>0.330786</td>\n",
       "    </tr>\n",
       "    <tr>\n",
       "      <th>75%</th>\n",
       "      <td>0.409391</td>\n",
       "    </tr>\n",
       "    <tr>\n",
       "      <th>max</th>\n",
       "      <td>0.758359</td>\n",
       "    </tr>\n",
       "  </tbody>\n",
       "</table>\n",
       "</div>"
      ],
      "text/plain": [
       "                vec\n",
       "count  36445.000000\n",
       "mean       0.355068\n",
       "std        0.113749\n",
       "min        0.005748\n",
       "25%        0.278167\n",
       "50%        0.330786\n",
       "75%        0.409391\n",
       "max        0.758359"
      ]
     },
     "execution_count": 7,
     "metadata": {},
     "output_type": "execute_result"
    }
   ],
   "source": [
    "all_vecs_df = pd.DataFrame([ float(x[0][0][0]) for x in all_vecs], columns=['vec'])\n",
    "all_vecs_df.describe()"
   ]
  },
  {
   "cell_type": "markdown",
   "metadata": {},
   "source": [
    "# 含有車禍的判決段落，相似度分佈，呈現常態分佈"
   ]
  },
  {
   "cell_type": "markdown",
   "metadata": {},
   "source": [
    "![](vec_bins.png)"
   ]
  },
  {
   "cell_type": "code",
   "execution_count": 89,
   "metadata": {},
   "outputs": [],
   "source": [
    "all_vecs_df.to_excel('vecs.xlsx')"
   ]
  },
  {
   "cell_type": "markdown",
   "metadata": {},
   "source": [
    "# 未實作部分"
   ]
  },
  {
   "cell_type": "markdown",
   "metadata": {},
   "source": [
    "![](dev_spec.png)"
   ]
  },
  {
   "cell_type": "markdown",
   "metadata": {},
   "source": []
  }
 ],
 "metadata": {
  "kernelspec": {
   "display_name": "Python 3.7.3 ('base')",
   "language": "python",
   "name": "python3"
  },
  "language_info": {
   "codemirror_mode": {
    "name": "ipython",
    "version": 3
   },
   "file_extension": ".py",
   "mimetype": "text/x-python",
   "name": "python",
   "nbconvert_exporter": "python",
   "pygments_lexer": "ipython3",
   "version": "3.7.3"
  },
  "orig_nbformat": 4,
  "vscode": {
   "interpreter": {
    "hash": "6e1437b994b2bf7ab90c1347218170795c830319bf39f9fdbb384fad56e42629"
   }
  }
 },
 "nbformat": 4,
 "nbformat_minor": 2
}
