{
 "cells": [
  {
   "cell_type": "markdown",
   "metadata": {},
   "source": [
    "# 架構圖 (也可看檔案夾裡的原圖)"
   ]
  },
  {
   "cell_type": "markdown",
   "metadata": {},
   "source": [
    "#### 1. 主要分為兩個部分，上半部為資料搜集&處理，下半部為採用向量方式，比對文字的相似度\n",
    "#### 2. 在判決書向量計算上，會先存起來，當query文字進來，只要計算query向量，並進行向量相似度計算，減少每次搜索運算量。"
   ]
  },
  {
   "cell_type": "markdown",
   "metadata": {},
   "source": [
    "![test](data_flow_judicial.jpg)"
   ]
  },
  {
   "cell_type": "markdown",
   "metadata": {},
   "source": [
    "# 此腳本為資料蒐集與處理"
   ]
  },
  {
   "cell_type": "code",
   "execution_count": 4,
   "metadata": {},
   "outputs": [],
   "source": [
    "from pathlib import Path\n",
    "import requests\n",
    "import pickle\n",
    "\n",
    "import pandas as pd"
   ]
  },
  {
   "cell_type": "markdown",
   "metadata": {},
   "source": [
    "#### step1. get historical judicial id"
   ]
  },
  {
   "cell_type": "code",
   "execution_count": 5,
   "metadata": {},
   "outputs": [
    {
     "name": "stdout",
     "output_type": "stream",
     "text": [
      "/Users/zoe/Desktop/Kevin_project/judicial_analysis/108/upload10812\n"
     ]
    }
   ],
   "source": [
    "root_path = Path('/Users/zoe/Desktop/Kevin_project/judicial_analysis')\n",
    "input_path = root_path / 'data/108/upload10812'"
   ]
  },
  {
   "cell_type": "code",
   "execution_count": 6,
   "metadata": {},
   "outputs": [],
   "source": [
    "cols = [\n",
    " '控制碼'\n",
    ",'法院別'\n",
    ",'案號-年'\n",
    ",'案號-字別'\n",
    ",'案號-號'\n",
    ",'案由'\n",
    ",'法官名1'\n",
    ",'法官名2'\n",
    ",'法官名3'\n",
    ",'原審(確定)法院'\n",
    ",'原審(確定)案號-年'\n",
    ",'原審(確定)案號-字別'\n",
    ",'原審(確定)案號-號'\n",
    ",'原告/上訴人是否有律師訴訟代理'\n",
    ",'被告/被上訴人是否有律師訴訟代理'\n",
    ",'全案終結日期-年'\n",
    ",'全案終結日期-月'\n",
    ",'全案終結日期-日'\n",
    ",'全案終結情形1'\n",
    ",'全案終結情形2'\n",
    ",'全案終結情形3'\n",
    ",'全案終結情形4'\n",
    ",'得上訴'\n",
    ",'不得上訴'\n",
    ",'得抗告'\n",
    ",'不得抗告'\n",
    ",'被告是否反訴'\n",
    ",'反訴終結情形'\n",
    ",'訴訟標的類別'\n",
    ",'訴訟標的金額'\n",
    ",'裁判內容出現「消除對婦女一切形式歧視公約」'\n",
    ",'裁判內容出現「兒童權利公約」'\n",
    ",'裁判內容出現「兩人權公約」'\n",
    ",'裁判內容出現「身心障礙者權利公約」'\n",
    ",'被請求機關之機關類別'\n",
    ",'賠償類別'\n",
    ",'賠償機關如為法院時之義務歸屬'\n",
    ",'公職類別'\n",
    ",'選舉類別'\n",
    ",'原告身分'\n",
    ",'被告身分'\n",
    ",'上訴或抗告人別'\n",
    ",'裁判書ID'\n",
    "]"
   ]
  },
  {
   "cell_type": "code",
   "execution_count": 7,
   "metadata": {},
   "outputs": [
    {
     "name": "stdout",
     "output_type": "stream",
     "text": [
      "'big5hkscs' codec can't decode byte 0xa4 in position 23246: illegal multibyte sequence\n",
      "/Users/zoe/Desktop/Kevin_project/judicial_analysis/108/upload10812/高雄簡易庭民事/10812.KSEV.民事訴訟.txt  failed!\n"
     ]
    }
   ],
   "source": [
    "all_df = pd.DataFrame()\n",
    "\n",
    "for file in input_path.glob('*/*民事訴訟.txt'):\n",
    "    try:\n",
    "        df = pd.read_csv(file, encoding='big5hkscs', sep='!', names=cols, index_col=False, lineterminator='#')\n",
    "    except Exception as e:\n",
    "        print(e)\n",
    "        print(file, ' failed!')\n",
    "        continue\n",
    "\n",
    "    df.控制碼 = df.控制碼.replace('\\r\\n', '', regex=True)\n",
    "    all_df = all_df.append(df)\n"
   ]
  },
  {
   "cell_type": "code",
   "execution_count": 83,
   "metadata": {},
   "outputs": [],
   "source": [
    "all_df.to_excel('data/民事_hist.xlsx')"
   ]
  },
  {
   "cell_type": "markdown",
   "metadata": {},
   "source": [
    "#### step2. get judical api token & content"
   ]
  },
  {
   "cell_type": "code",
   "execution_count": 6,
   "metadata": {},
   "outputs": [],
   "source": [
    "# account/pwd should be yml config file to make it safe\n",
    "# 因考慮本院網路頻寬及系統負擔，並避免損及多數一般使用者權益，本API提供服務時間為每日凌晨0時至6時止，其餘時間恕不提供服務。\n",
    "rs = requests.post('https://data.judicial.gov.tw/jdg/api/Auth', data={'user':'youraccount', 'password':'yourpwd'})\n",
    "api_key = rs.json()['token']"
   ]
  },
  {
   "cell_type": "code",
   "execution_count": 9,
   "metadata": {},
   "outputs": [
    {
     "name": "stdout",
     "output_type": "stream",
     "text": [
      "0\n",
      "100\n",
      "200\n",
      "300\n",
      "400\n",
      "500\n",
      "600\n",
      "700\n",
      "800\n",
      "900\n",
      "1000\n",
      "1100\n",
      "1200\n",
      "1300\n",
      "1400\n",
      "1500\n",
      "1600\n",
      "1700\n",
      "1800\n",
      "1900\n",
      "2000\n",
      "2100\n",
      "2200\n",
      "2300\n",
      "2400\n",
      "2500\n",
      "2600\n",
      "2700\n",
      "2800\n",
      "2900\n",
      "3000\n",
      "3100\n",
      "3200\n",
      "3300\n",
      "3400\n",
      "3500\n",
      "3600\n",
      "3700\n",
      "3800\n",
      "3900\n",
      "4000\n",
      "4100\n",
      "4200\n",
      "4300\n",
      "4400\n",
      "4500\n",
      "4600\n",
      "4700\n",
      "4800\n",
      "4900\n",
      "5000\n",
      "5100\n",
      "5200\n",
      "5300\n",
      "5400\n",
      "5500\n",
      "5600\n",
      "5700\n",
      "5800\n",
      "5900\n",
      "6000\n",
      "6100\n",
      "6200\n",
      "6300\n",
      "6400\n",
      "6500\n",
      "6600\n",
      "6700\n",
      "6800\n",
      "6900\n",
      "7000\n",
      "7100\n",
      "7200\n",
      "7300\n",
      "7400\n",
      "7500\n",
      "7600\n",
      "7700\n",
      "7800\n",
      "7900\n",
      "8000\n",
      "8100\n",
      "8200\n",
      "8300\n",
      "8400\n",
      "8500\n",
      "8600\n",
      "8700\n",
      "8800\n",
      "8900\n",
      "9000\n",
      "9100\n",
      "9200\n",
      "9300\n",
      "9400\n",
      "9500\n",
      "9600\n",
      "9700\n",
      "9800\n",
      "9900\n",
      "10000\n",
      "10100\n",
      "10200\n",
      "10300\n",
      "10400\n",
      "10500\n",
      "10600\n",
      "10700\n",
      "10800\n",
      "10900\n",
      "11000\n",
      "11100\n",
      "11200\n",
      "11300\n",
      "11400\n",
      "11500\n",
      "11600\n",
      "11700\n",
      "11800\n",
      "11900\n",
      "12000\n",
      "12100\n",
      "12200\n",
      "12300\n",
      "12400\n",
      "12500\n",
      "12600\n",
      "12700\n",
      "12800\n",
      "12900\n",
      "13000\n",
      "13100\n",
      "13200\n",
      "13300\n",
      "13400\n",
      "13500\n",
      "13600\n",
      "13700\n",
      "13800\n",
      "13900\n",
      "14000\n",
      "14100\n",
      "14200\n",
      "14300\n",
      "14400\n",
      "14500\n",
      "14600\n",
      "14700\n",
      "14800\n",
      "14900\n"
     ]
    }
   ],
   "source": [
    "#about 2 hours for 15,000 requests\n",
    "judicial_json = []\n",
    "\n",
    "\n",
    "for idx, jid in enumerate(all_df[all_df['裁判書ID'].notna()]['裁判書ID']):\n",
    "    if idx % 100 == 0:\n",
    "        print(idx)\n",
    "    rs = requests.post('https://data.judicial.gov.tw/jdg/api/JDoc', data={'token':api_key, 'j':jid})\n",
    "    judicial_json.append(rs.json())"
   ]
  },
  {
   "cell_type": "code",
   "execution_count": 10,
   "metadata": {},
   "outputs": [],
   "source": [
    "with open('all_judicial.pickle', 'wb') as f:\n",
    "    pickle.dump(judicial_json, f)"
   ]
  },
  {
   "cell_type": "code",
   "execution_count": 19,
   "metadata": {},
   "outputs": [
    {
     "data": {
      "text/plain": [
       "786"
      ]
     },
     "execution_count": 19,
     "metadata": {},
     "output_type": "execute_result"
    }
   ],
   "source": [
    "# 有車禍的判決數量\n",
    "[ 1 for x in judicial_json if x.get('JFULLX') and '車禍' in x['JFULLX']['JFULLCONTENT']].__len__()"
   ]
  }
 ],
 "metadata": {
  "kernelspec": {
   "display_name": "Python 3",
   "language": "python",
   "name": "python3"
  },
  "language_info": {
   "codemirror_mode": {
    "name": "ipython",
    "version": 3
   },
   "file_extension": ".py",
   "mimetype": "text/x-python",
   "name": "python",
   "nbconvert_exporter": "python",
   "pygments_lexer": "ipython3",
   "version": "3.7.3"
  },
  "vscode": {
   "interpreter": {
    "hash": "6e1437b994b2bf7ab90c1347218170795c830319bf39f9fdbb384fad56e42629"
   }
  }
 },
 "nbformat": 4,
 "nbformat_minor": 2
}
